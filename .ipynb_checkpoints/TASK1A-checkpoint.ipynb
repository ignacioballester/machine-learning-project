{
 "cells": [
  {
   "cell_type": "code",
   "execution_count": 7,
   "id": "c5930feb",
   "metadata": {},
   "outputs": [],
   "source": [
    "from sklearn.datasets import make_regression\n",
    "from matplotlib import pyplot as plt\n",
    "import numpy as np\n",
    "from sklearn.linear_model import Ridge\n",
    "from numpy import genfromtxt\n",
    "from sklearn.model_selection import KFold # import KFol\n",
    "import math\n",
    "from sklearn.metrics import mean_squared_error\n"
   ]
  },
  {
   "cell_type": "code",
   "execution_count": 8,
   "id": "368440a1",
   "metadata": {},
   "outputs": [],
   "source": [
    "my_data = genfromtxt('data/task_1A/train.csv', delimiter=',')\n",
    "my_data = my_data[1:, :]\n",
    "complete_y = my_data[:,0]\n",
    "complete_X = my_data[:,1:]\n",
    "\n",
    "kf = KFold(n_splits=10, random_state=None, shuffle=False)\n"
   ]
  },
  {
   "cell_type": "code",
   "execution_count": 13,
   "id": "981bef1e",
   "metadata": {},
   "outputs": [
    {
     "name": "stdout",
     "output_type": "stream",
     "text": [
      "Average for alpha 0.1 --> 5.501809445057859 \n",
      "Average for alpha 1 --> 5.50082409316798 \n",
      "Average for alpha 10 --> 5.495093224136084 \n",
      "Average for alpha 100 --> 5.530480451955571 \n",
      "Average for alpha 200 --> 5.568631105536682 \n"
     ]
    }
   ],
   "source": [
    "rmse_list = []\n",
    "alphas = [0.1, 1, 10, 100, 200]\n",
    "for alpha in alphas:\n",
    "    for train_index, test_index in kf.split(complete_X):\n",
    "        X = my_data[train_index, 1:]\n",
    "        y = my_data[train_index, 0]\n",
    "        y_test = my_data[test_index, 0]\n",
    "        X_test = my_data[test_index, 1:]\n",
    "        ridge = Ridge(alpha=alpha)\n",
    "        ridge.fit(X, y)\n",
    "        # w = ridge.coef_\n",
    "        pred = ridge.predict(X_test)\n",
    "        rmse_list.append(mean_squared_error(y_test, pred, squared=False))\n",
    "    print(\"Average for alpha {} --> {} \".format(alpha, np.average(rmse_list)))"
   ]
  }
 ],
 "metadata": {
  "kernelspec": {
   "display_name": "Python 3 (ipykernel)",
   "language": "python",
   "name": "python3"
  },
  "language_info": {
   "codemirror_mode": {
    "name": "ipython",
    "version": 3
   },
   "file_extension": ".py",
   "mimetype": "text/x-python",
   "name": "python",
   "nbconvert_exporter": "python",
   "pygments_lexer": "ipython3",
   "version": "3.7.3"
  }
 },
 "nbformat": 4,
 "nbformat_minor": 5
}
