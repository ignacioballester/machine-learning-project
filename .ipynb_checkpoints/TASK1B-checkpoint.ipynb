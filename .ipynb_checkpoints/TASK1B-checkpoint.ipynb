{
 "cells": [
  {
   "cell_type": "code",
   "execution_count": null,
   "id": "af9b2029",
   "metadata": {},
   "outputs": [],
   "source": [
    "from sklearn.datasets import make_regression\n",
    "from matplotlib import pyplot as plt\n",
    "import numpy as np\n",
    "from sklearn.linear_model import LinearRegression\n",
    "from numpy import genfromtxt\n",
    "from sklearn.model_selection import KFold # import KFol\n",
    "import math\n",
    "from sklearn.metrics import mean_squared_error\n",
    "from sklearn.model_selection import train_test_split\n",
    "import csv\n",
    "\n"
   ]
  },
  {
   "cell_type": "code",
   "execution_count": null,
   "id": "ed848b64",
   "metadata": {},
   "outputs": [],
   "source": [
    "my_data = genfromtxt('data/task_1B/train.csv', delimiter=',')\n",
    "my_data = my_data[1:, 1:]\n",
    "\n",
    "X_quadratic = np.square(my_data[:,1:])\n",
    "X_exp = np.exp(my_data[:,1:])\n",
    "X_cos = np.cos(my_data[:,1:])\n",
    "X_const = np.full((X_quadratic.shape[0], 1), 1)\n",
    "\n",
    "complete_X = np.concatenate((my_data[:,1:], X_quadratic, X_exp, X_cos, X_const), axis=1)\n",
    "# X, X_test, y, y_test = train_test_split(complete_X, my_data[:,0], test_size=0.10, random_state=42, shuffle=False)"
   ]
  },
  {
   "cell_type": "code",
   "execution_count": null,
   "id": "572025d3",
   "metadata": {},
   "outputs": [],
   "source": [
    "model = LinearRegression()\n",
    "model.fit(X, y)\n",
    "pred = model.predict(X_test)\n",
    "print(model.coef_)\n",
    "print(mean_squared_error(y_test, pred, squared=False))"
   ]
  },
  {
   "cell_type": "code",
   "execution_count": null,
   "id": "001a3fb6",
   "metadata": {},
   "outputs": [],
   "source": [
    "coef = model.coef_\n",
    "with open('sol_task1B.csv', 'w') as csv_file:\n",
    "    writer = csv.writer(csv_file)\n",
    "    for w in coef:\n",
    "        writer.writerow([w])\n",
    "csv_file.close()"
   ]
  },
  {
   "cell_type": "code",
   "execution_count": null,
   "id": "d4b992cc",
   "metadata": {},
   "outputs": [],
   "source": [
    "import numpy as np\n",
    "import csv\n",
    "import pandas as pd\n",
    "from sklearn.linear_model import SGDRegressor\n",
    "\n",
    "train_data = pd.read_csv('train.csv', float_precision='round_trip')\n",
    "y = train_data.values[:, 1]\n",
    "X = np.matrix(train_data.values[:, 2:])\n",
    "\n",
    "\n",
    "square_x = np.square(X)\n",
    "exp_x = np.exp(X)\n",
    "cos_x = np.cos(X)\n",
    "ones_x = np.ones((X.shape[0], 1))\n",
    "\n",
    "X = np.hstack((X, square_x, exp_x, cos_x, ones_x))\n",
    "X = np.asarray(X)\n",
    "print(np.equal(X, complete_X))\n",
    "# reg = SGDRegressor(loss='squared_error', penalty='l2', fit_intercept=False, random_state=0)\n",
    "# reg.fit(X, y)"
   ]
  }
 ],
 "metadata": {
  "kernelspec": {
   "display_name": "Python 3 (ipykernel)",
   "language": "python",
   "name": "python3"
  },
  "language_info": {
   "codemirror_mode": {
    "name": "ipython",
    "version": 3
   },
   "file_extension": ".py",
   "mimetype": "text/x-python",
   "name": "python",
   "nbconvert_exporter": "python",
   "pygments_lexer": "ipython3",
   "version": "3.7.3"
  }
 },
 "nbformat": 4,
 "nbformat_minor": 5
}
